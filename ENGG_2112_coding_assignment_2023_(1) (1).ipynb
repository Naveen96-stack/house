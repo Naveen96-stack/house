{
  "nbformat": 4,
  "nbformat_minor": 0,
  "metadata": {
    "colab": {
      "provenance": []
    },
    "kernelspec": {
      "name": "python3",
      "display_name": "Python 3"
    },
    "language_info": {
      "name": "python"
    }
  },
  "cells": [
    {
      "cell_type": "markdown",
      "source": [
        "Please replace \"unikey\" in the name of the notebook to your unikey."
      ],
      "metadata": {
        "id": "eqk5oaDsZEjO"
      }
    },
    {
      "cell_type": "code",
      "source": [
        "# Import your libraries here \n",
        "# ...\n",
        "\n",
        "# Set up a desired plotting size\n",
        "plt.rcParams[\"figure.figsize\"] = (16,9)"
      ],
      "metadata": {
        "id": "fqufOi4_ZUjC"
      },
      "execution_count": null,
      "outputs": []
    },
    {
      "cell_type": "code",
      "source": [
        "# Here are the function to read the csv file. \n",
        "# To be noticed, please put your House_Rent_Dataset.csv under the same path as this notebook. \n",
        "# Or if you are using google colab, just upload the csv file to the cloud storage on your left.\n",
        "df = pd.read_csv(\"House_Rent_Dataset.csv\")\n",
        "\n",
        "# Drop the NaN values. Our dataset is actually very clean, but you will need this in the future.\n",
        "df = df.dropna()\n",
        "df"
      ],
      "metadata": {
        "colab": {
          "base_uri": "https://localhost:8080/",
          "height": 424
        },
        "id": "n2FVhVsnZqwe",
        "outputId": "348cecf3-f03a-4364-9eb1-e74a6f00c891"
      },
      "execution_count": null,
      "outputs": [
        {
          "output_type": "execute_result",
          "data": {
            "text/plain": [
              "       Posted On  BHK   Rent  Size            Floor    Area Type  \\\n",
              "0     2022-05-18    2  10000  1100  Ground out of 2   Super Area   \n",
              "1     2022-05-13    2  20000   800       1 out of 3   Super Area   \n",
              "2     2022-05-16    2  17000  1000       1 out of 3   Super Area   \n",
              "3     2022-07-04    2  10000   800       1 out of 2   Super Area   \n",
              "4     2022-05-09    2   7500   850       1 out of 2  Carpet Area   \n",
              "...          ...  ...    ...   ...              ...          ...   \n",
              "4741  2022-05-18    2  15000  1000       3 out of 5  Carpet Area   \n",
              "4742  2022-05-15    3  29000  2000       1 out of 4   Super Area   \n",
              "4743  2022-07-10    3  35000  1750       3 out of 5  Carpet Area   \n",
              "4744  2022-07-06    3  45000  1500     23 out of 34  Carpet Area   \n",
              "4745  2022-05-04    2  15000  1000       4 out of 5  Carpet Area   \n",
              "\n",
              "                 Area Locality       City Furnishing Status  Tenant Preferred  \\\n",
              "0                       Bandel    Kolkata       Unfurnished  Bachelors/Family   \n",
              "1     Phool Bagan, Kankurgachi    Kolkata    Semi-Furnished  Bachelors/Family   \n",
              "2      Salt Lake City Sector 2    Kolkata    Semi-Furnished  Bachelors/Family   \n",
              "3                  Dumdum Park    Kolkata       Unfurnished  Bachelors/Family   \n",
              "4                South Dum Dum    Kolkata       Unfurnished         Bachelors   \n",
              "...                        ...        ...               ...               ...   \n",
              "4741              Bandam Kommu  Hyderabad    Semi-Furnished  Bachelors/Family   \n",
              "4742      Manikonda, Hyderabad  Hyderabad    Semi-Furnished  Bachelors/Family   \n",
              "4743      Himayath Nagar, NH 7  Hyderabad    Semi-Furnished  Bachelors/Family   \n",
              "4744                Gachibowli  Hyderabad    Semi-Furnished            Family   \n",
              "4745           Suchitra Circle  Hyderabad       Unfurnished         Bachelors   \n",
              "\n",
              "      Bathroom Point of Contact  \n",
              "0            2    Contact Owner  \n",
              "1            1    Contact Owner  \n",
              "2            1    Contact Owner  \n",
              "3            1    Contact Owner  \n",
              "4            1    Contact Owner  \n",
              "...        ...              ...  \n",
              "4741         2    Contact Owner  \n",
              "4742         3    Contact Owner  \n",
              "4743         3    Contact Agent  \n",
              "4744         2    Contact Agent  \n",
              "4745         2    Contact Owner  \n",
              "\n",
              "[4746 rows x 12 columns]"
            ],
            "text/html": [
              "\n",
              "  <div id=\"df-43738a9c-39d9-453a-85e1-540ca81a91fc\">\n",
              "    <div class=\"colab-df-container\">\n",
              "      <div>\n",
              "<style scoped>\n",
              "    .dataframe tbody tr th:only-of-type {\n",
              "        vertical-align: middle;\n",
              "    }\n",
              "\n",
              "    .dataframe tbody tr th {\n",
              "        vertical-align: top;\n",
              "    }\n",
              "\n",
              "    .dataframe thead th {\n",
              "        text-align: right;\n",
              "    }\n",
              "</style>\n",
              "<table border=\"1\" class=\"dataframe\">\n",
              "  <thead>\n",
              "    <tr style=\"text-align: right;\">\n",
              "      <th></th>\n",
              "      <th>Posted On</th>\n",
              "      <th>BHK</th>\n",
              "      <th>Rent</th>\n",
              "      <th>Size</th>\n",
              "      <th>Floor</th>\n",
              "      <th>Area Type</th>\n",
              "      <th>Area Locality</th>\n",
              "      <th>City</th>\n",
              "      <th>Furnishing Status</th>\n",
              "      <th>Tenant Preferred</th>\n",
              "      <th>Bathroom</th>\n",
              "      <th>Point of Contact</th>\n",
              "    </tr>\n",
              "  </thead>\n",
              "  <tbody>\n",
              "    <tr>\n",
              "      <th>0</th>\n",
              "      <td>2022-05-18</td>\n",
              "      <td>2</td>\n",
              "      <td>10000</td>\n",
              "      <td>1100</td>\n",
              "      <td>Ground out of 2</td>\n",
              "      <td>Super Area</td>\n",
              "      <td>Bandel</td>\n",
              "      <td>Kolkata</td>\n",
              "      <td>Unfurnished</td>\n",
              "      <td>Bachelors/Family</td>\n",
              "      <td>2</td>\n",
              "      <td>Contact Owner</td>\n",
              "    </tr>\n",
              "    <tr>\n",
              "      <th>1</th>\n",
              "      <td>2022-05-13</td>\n",
              "      <td>2</td>\n",
              "      <td>20000</td>\n",
              "      <td>800</td>\n",
              "      <td>1 out of 3</td>\n",
              "      <td>Super Area</td>\n",
              "      <td>Phool Bagan, Kankurgachi</td>\n",
              "      <td>Kolkata</td>\n",
              "      <td>Semi-Furnished</td>\n",
              "      <td>Bachelors/Family</td>\n",
              "      <td>1</td>\n",
              "      <td>Contact Owner</td>\n",
              "    </tr>\n",
              "    <tr>\n",
              "      <th>2</th>\n",
              "      <td>2022-05-16</td>\n",
              "      <td>2</td>\n",
              "      <td>17000</td>\n",
              "      <td>1000</td>\n",
              "      <td>1 out of 3</td>\n",
              "      <td>Super Area</td>\n",
              "      <td>Salt Lake City Sector 2</td>\n",
              "      <td>Kolkata</td>\n",
              "      <td>Semi-Furnished</td>\n",
              "      <td>Bachelors/Family</td>\n",
              "      <td>1</td>\n",
              "      <td>Contact Owner</td>\n",
              "    </tr>\n",
              "    <tr>\n",
              "      <th>3</th>\n",
              "      <td>2022-07-04</td>\n",
              "      <td>2</td>\n",
              "      <td>10000</td>\n",
              "      <td>800</td>\n",
              "      <td>1 out of 2</td>\n",
              "      <td>Super Area</td>\n",
              "      <td>Dumdum Park</td>\n",
              "      <td>Kolkata</td>\n",
              "      <td>Unfurnished</td>\n",
              "      <td>Bachelors/Family</td>\n",
              "      <td>1</td>\n",
              "      <td>Contact Owner</td>\n",
              "    </tr>\n",
              "    <tr>\n",
              "      <th>4</th>\n",
              "      <td>2022-05-09</td>\n",
              "      <td>2</td>\n",
              "      <td>7500</td>\n",
              "      <td>850</td>\n",
              "      <td>1 out of 2</td>\n",
              "      <td>Carpet Area</td>\n",
              "      <td>South Dum Dum</td>\n",
              "      <td>Kolkata</td>\n",
              "      <td>Unfurnished</td>\n",
              "      <td>Bachelors</td>\n",
              "      <td>1</td>\n",
              "      <td>Contact Owner</td>\n",
              "    </tr>\n",
              "    <tr>\n",
              "      <th>...</th>\n",
              "      <td>...</td>\n",
              "      <td>...</td>\n",
              "      <td>...</td>\n",
              "      <td>...</td>\n",
              "      <td>...</td>\n",
              "      <td>...</td>\n",
              "      <td>...</td>\n",
              "      <td>...</td>\n",
              "      <td>...</td>\n",
              "      <td>...</td>\n",
              "      <td>...</td>\n",
              "      <td>...</td>\n",
              "    </tr>\n",
              "    <tr>\n",
              "      <th>4741</th>\n",
              "      <td>2022-05-18</td>\n",
              "      <td>2</td>\n",
              "      <td>15000</td>\n",
              "      <td>1000</td>\n",
              "      <td>3 out of 5</td>\n",
              "      <td>Carpet Area</td>\n",
              "      <td>Bandam Kommu</td>\n",
              "      <td>Hyderabad</td>\n",
              "      <td>Semi-Furnished</td>\n",
              "      <td>Bachelors/Family</td>\n",
              "      <td>2</td>\n",
              "      <td>Contact Owner</td>\n",
              "    </tr>\n",
              "    <tr>\n",
              "      <th>4742</th>\n",
              "      <td>2022-05-15</td>\n",
              "      <td>3</td>\n",
              "      <td>29000</td>\n",
              "      <td>2000</td>\n",
              "      <td>1 out of 4</td>\n",
              "      <td>Super Area</td>\n",
              "      <td>Manikonda, Hyderabad</td>\n",
              "      <td>Hyderabad</td>\n",
              "      <td>Semi-Furnished</td>\n",
              "      <td>Bachelors/Family</td>\n",
              "      <td>3</td>\n",
              "      <td>Contact Owner</td>\n",
              "    </tr>\n",
              "    <tr>\n",
              "      <th>4743</th>\n",
              "      <td>2022-07-10</td>\n",
              "      <td>3</td>\n",
              "      <td>35000</td>\n",
              "      <td>1750</td>\n",
              "      <td>3 out of 5</td>\n",
              "      <td>Carpet Area</td>\n",
              "      <td>Himayath Nagar, NH 7</td>\n",
              "      <td>Hyderabad</td>\n",
              "      <td>Semi-Furnished</td>\n",
              "      <td>Bachelors/Family</td>\n",
              "      <td>3</td>\n",
              "      <td>Contact Agent</td>\n",
              "    </tr>\n",
              "    <tr>\n",
              "      <th>4744</th>\n",
              "      <td>2022-07-06</td>\n",
              "      <td>3</td>\n",
              "      <td>45000</td>\n",
              "      <td>1500</td>\n",
              "      <td>23 out of 34</td>\n",
              "      <td>Carpet Area</td>\n",
              "      <td>Gachibowli</td>\n",
              "      <td>Hyderabad</td>\n",
              "      <td>Semi-Furnished</td>\n",
              "      <td>Family</td>\n",
              "      <td>2</td>\n",
              "      <td>Contact Agent</td>\n",
              "    </tr>\n",
              "    <tr>\n",
              "      <th>4745</th>\n",
              "      <td>2022-05-04</td>\n",
              "      <td>2</td>\n",
              "      <td>15000</td>\n",
              "      <td>1000</td>\n",
              "      <td>4 out of 5</td>\n",
              "      <td>Carpet Area</td>\n",
              "      <td>Suchitra Circle</td>\n",
              "      <td>Hyderabad</td>\n",
              "      <td>Unfurnished</td>\n",
              "      <td>Bachelors</td>\n",
              "      <td>2</td>\n",
              "      <td>Contact Owner</td>\n",
              "    </tr>\n",
              "  </tbody>\n",
              "</table>\n",
              "<p>4746 rows × 12 columns</p>\n",
              "</div>\n",
              "      <button class=\"colab-df-convert\" onclick=\"convertToInteractive('df-43738a9c-39d9-453a-85e1-540ca81a91fc')\"\n",
              "              title=\"Convert this dataframe to an interactive table.\"\n",
              "              style=\"display:none;\">\n",
              "        \n",
              "  <svg xmlns=\"http://www.w3.org/2000/svg\" height=\"24px\"viewBox=\"0 0 24 24\"\n",
              "       width=\"24px\">\n",
              "    <path d=\"M0 0h24v24H0V0z\" fill=\"none\"/>\n",
              "    <path d=\"M18.56 5.44l.94 2.06.94-2.06 2.06-.94-2.06-.94-.94-2.06-.94 2.06-2.06.94zm-11 1L8.5 8.5l.94-2.06 2.06-.94-2.06-.94L8.5 2.5l-.94 2.06-2.06.94zm10 10l.94 2.06.94-2.06 2.06-.94-2.06-.94-.94-2.06-.94 2.06-2.06.94z\"/><path d=\"M17.41 7.96l-1.37-1.37c-.4-.4-.92-.59-1.43-.59-.52 0-1.04.2-1.43.59L10.3 9.45l-7.72 7.72c-.78.78-.78 2.05 0 2.83L4 21.41c.39.39.9.59 1.41.59.51 0 1.02-.2 1.41-.59l7.78-7.78 2.81-2.81c.8-.78.8-2.07 0-2.86zM5.41 20L4 18.59l7.72-7.72 1.47 1.35L5.41 20z\"/>\n",
              "  </svg>\n",
              "      </button>\n",
              "      \n",
              "  <style>\n",
              "    .colab-df-container {\n",
              "      display:flex;\n",
              "      flex-wrap:wrap;\n",
              "      gap: 12px;\n",
              "    }\n",
              "\n",
              "    .colab-df-convert {\n",
              "      background-color: #E8F0FE;\n",
              "      border: none;\n",
              "      border-radius: 50%;\n",
              "      cursor: pointer;\n",
              "      display: none;\n",
              "      fill: #1967D2;\n",
              "      height: 32px;\n",
              "      padding: 0 0 0 0;\n",
              "      width: 32px;\n",
              "    }\n",
              "\n",
              "    .colab-df-convert:hover {\n",
              "      background-color: #E2EBFA;\n",
              "      box-shadow: 0px 1px 2px rgba(60, 64, 67, 0.3), 0px 1px 3px 1px rgba(60, 64, 67, 0.15);\n",
              "      fill: #174EA6;\n",
              "    }\n",
              "\n",
              "    [theme=dark] .colab-df-convert {\n",
              "      background-color: #3B4455;\n",
              "      fill: #D2E3FC;\n",
              "    }\n",
              "\n",
              "    [theme=dark] .colab-df-convert:hover {\n",
              "      background-color: #434B5C;\n",
              "      box-shadow: 0px 1px 3px 1px rgba(0, 0, 0, 0.15);\n",
              "      filter: drop-shadow(0px 1px 2px rgba(0, 0, 0, 0.3));\n",
              "      fill: #FFFFFF;\n",
              "    }\n",
              "  </style>\n",
              "\n",
              "      <script>\n",
              "        const buttonEl =\n",
              "          document.querySelector('#df-43738a9c-39d9-453a-85e1-540ca81a91fc button.colab-df-convert');\n",
              "        buttonEl.style.display =\n",
              "          google.colab.kernel.accessAllowed ? 'block' : 'none';\n",
              "\n",
              "        async function convertToInteractive(key) {\n",
              "          const element = document.querySelector('#df-43738a9c-39d9-453a-85e1-540ca81a91fc');\n",
              "          const dataTable =\n",
              "            await google.colab.kernel.invokeFunction('convertToInteractive',\n",
              "                                                     [key], {});\n",
              "          if (!dataTable) return;\n",
              "\n",
              "          const docLinkHtml = 'Like what you see? Visit the ' +\n",
              "            '<a target=\"_blank\" href=https://colab.research.google.com/notebooks/data_table.ipynb>data table notebook</a>'\n",
              "            + ' to learn more about interactive tables.';\n",
              "          element.innerHTML = '';\n",
              "          dataTable['output_type'] = 'display_data';\n",
              "          await google.colab.output.renderOutput(dataTable, element);\n",
              "          const docLink = document.createElement('div');\n",
              "          docLink.innerHTML = docLinkHtml;\n",
              "          element.appendChild(docLink);\n",
              "        }\n",
              "      </script>\n",
              "    </div>\n",
              "  </div>\n",
              "  "
            ]
          },
          "metadata": {},
          "execution_count": 21
        }
      ]
    },
    {
      "cell_type": "markdown",
      "source": [
        "# Problem 1"
      ],
      "metadata": {
        "id": "VCSYYgF_fOr_"
      }
    },
    {
      "cell_type": "markdown",
      "source": [
        "## Question 1"
      ],
      "metadata": {
        "id": "0TIeZ-vZrcBR"
      }
    },
    {
      "cell_type": "code",
      "source": [
        "# The column-wise minmimum of rent.\n",
        "rent_min = \n",
        "\n",
        "# The column-wise maximum of rent.\n",
        "rent_max = \n",
        "\n",
        "# The column-wise average of rent.\n",
        "rent_avg = \n",
        "\n",
        "print(\"The minimum rent in the data set is {:.2f}.\".format(rent_min))\n",
        "print(\"The maximum rent in the data set is {:.2f}.\".format(rent_max))\n",
        "print(\"The averge rent in the data set is {:.2f}.\".format(rent_avg))"
      ],
      "metadata": {
        "id": "f5gglXy4fRTX"
      },
      "execution_count": null,
      "outputs": []
    },
    {
      "cell_type": "markdown",
      "source": [
        "## Question 2"
      ],
      "metadata": {
        "id": "jyDQvn3gg9Lj"
      }
    },
    {
      "cell_type": "code",
      "source": [
        "# ...\n",
        "\n",
        "# Here is the important bool condition by the variable mask.\n",
        "mask = \n",
        "\n",
        "# Then we can find out the correct subset accroding to the question.\n",
        "df_q2 =\n",
        "\n",
        "# Find out the number of rows \n",
        "num_rows = \n",
        "print(\"There are {} rows of eligible data records.\".format(num_rows))"
      ],
      "metadata": {
        "id": "YZtWH5UYg_3W"
      },
      "execution_count": null,
      "outputs": []
    },
    {
      "cell_type": "markdown",
      "source": [
        "## Question 3"
      ],
      "metadata": {
        "id": "Fhp89_2qbUSI"
      }
    },
    {
      "cell_type": "code",
      "source": [
        "# ...\n",
        "\n",
        "# The following are the code for visulizing the plot\n",
        "plt.grid(axis=\"y\", alpha=0.75)\n",
        "plt.xlabel(\"Size of the real estate\")\n",
        "plt.ylabel(\"Count\")\n",
        "plt.title(\"Histogram of sizes\")\n",
        "plt.show()"
      ],
      "metadata": {
        "id": "tsBTrYxubTrF"
      },
      "execution_count": null,
      "outputs": []
    },
    {
      "cell_type": "code",
      "source": [
        "# ...\n",
        "\n",
        "\n",
        "# The following are the code for visulizing the plot\n",
        "plt.xticks(rotation=90)\n",
        "plt.xlabel(\"Post date\")\n",
        "plt.ylabel(\"Size\")\n",
        "plt.title(\"Scatter plot of sizes v.s. date\")\n",
        "plt.show()"
      ],
      "metadata": {
        "id": "rOfuCWfGdyVp"
      },
      "execution_count": null,
      "outputs": []
    },
    {
      "cell_type": "markdown",
      "source": [
        "# Problem 2"
      ],
      "metadata": {
        "id": "JF8E3Q8ukQJh"
      }
    },
    {
      "cell_type": "markdown",
      "source": [
        "## Question 1"
      ],
      "metadata": {
        "id": "5UdNfEoNrmxQ"
      }
    },
    {
      "cell_type": "code",
      "source": [
        "# Firstly, we need to allocate the subset of features for machine learning in this question.\n",
        "X_df_q4 =\n",
        "\n",
        "# ...\n"
      ],
      "metadata": {
        "id": "ycegxElykRt0"
      },
      "execution_count": null,
      "outputs": []
    },
    {
      "cell_type": "code",
      "source": [
        "# At the same time, allocate the target as well.\n",
        "y_q4 = "
      ],
      "metadata": {
        "id": "x4PaHXy9oXRj"
      },
      "execution_count": null,
      "outputs": []
    },
    {
      "cell_type": "code",
      "source": [
        "# Train/test splits, remember the random state issue\n",
        "X_train, X_test, y_train, y_test = \n",
        "\n",
        "# Build the Linear Rregression model\n",
        "reg = \n",
        "\n",
        "# Predict the target\n",
        "y_pred = \n",
        "\n",
        "# Obtain the coefficient of determination of the prediction\n",
        "R2 = \n",
        "# Obtain the mean square error of the prediction\n",
        "mse = \n",
        "\n",
        "print(\"The R2 of the testing set by LR is {:.2f}\".format(R2))\n",
        "print(\"The mean square error of the testing set by LR is {:.2f}\".format(mse))"
      ],
      "metadata": {
        "id": "_3Q5L4ZCbAZA"
      },
      "execution_count": null,
      "outputs": []
    },
    {
      "cell_type": "markdown",
      "source": [
        "## Question 2"
      ],
      "metadata": {
        "id": "DQyWts7_sPrI"
      }
    },
    {
      "cell_type": "code",
      "source": [
        "# Firstly, we need to allocate the subset of features for machine learning in this question.\n",
        "X_df_q5 =\n"
      ],
      "metadata": {
        "id": "K793m_4ft3gs"
      },
      "execution_count": null,
      "outputs": []
    },
    {
      "cell_type": "code",
      "source": [
        "# At the same time, allocate the target as well.\n",
        "y_q5 = \n"
      ],
      "metadata": {
        "id": "ha1Dbpb12hzc"
      },
      "execution_count": null,
      "outputs": []
    },
    {
      "cell_type": "code",
      "source": [
        "# Implement the feature transformation function\n",
        "def floor_extract(x):\n",
        "  \"\"\"\n",
        "  Returns:\n",
        "  floor (1-d list of integer): The extracted floor information.\n",
        "  total_floor\t(1-d list of integer): extracted total floor information.\n",
        "  \"\"\"\n",
        "  # Convert the data type into list\n",
        "  x = list(x.values)\n",
        "\n",
        "  # ...\n",
        "  # Collect the total number of floor information \n",
        "  total_floor = \n",
        "\n",
        "  # Collect the floor information via the following loop and if statement\n",
        "  floor = \n",
        "  \n",
        "  return floor, total_floor\n",
        "\n",
        "# Run the function\n",
        "floor, total_floor = floor_extract(X_df_q5[\"Floor\"])\n",
        "\n",
        "# Write the new columns\n",
        "# ...\n",
        "\n",
        "# Drop the unnecessary column\n",
        "X_df_q5 = \n",
        "\n",
        "# Convert the categorical data into one-hot encoding.\n",
        "X_df_q5 = \n",
        "X_df_q5"
      ],
      "metadata": {
        "id": "dqu4IQoNu0_Z"
      },
      "execution_count": null,
      "outputs": []
    },
    {
      "cell_type": "code",
      "source": [
        "# Train/test splits, remember the random state issue\n",
        "X_train, X_test, y_train, y_test = \n",
        "\n",
        "# Build the Logistic Rregression model\n",
        "LoR = \n",
        "\n",
        "# Build the MLP model\n",
        "MLP = \n",
        "\n",
        "# BUild the GNB model\n",
        "GNB = \n",
        "\n",
        "# Create the result dataframe here\n",
        "result = pd.DataFrame(data = {\"Model\":[\"LoR\", \"MLP\", \"GNB\"], \"F1\":[0, 0, 0], \"Accuracy\":[0, 0, 0]}, index=[0, 1, 2])\n",
        "\n",
        "# ...\n",
        "\n",
        "# Predict the target and evaluate the algorithms\n",
        "for i in [LoR, MLP, GNB]:\n",
        "\n",
        "  y_pred = \n",
        "\n",
        "  # Obtain the evaluations of the predictions\n",
        "  acc = \n",
        "  f1 = \n",
        "\n",
        "  # Store the evaluations in the dataframe\n",
        "   = f1\n",
        "   = acc\n",
        "\n",
        "  # ...\n",
        "\n",
        "result"
      ],
      "metadata": {
        "id": "cLPVrms5Zvfx"
      },
      "execution_count": null,
      "outputs": []
    },
    {
      "cell_type": "markdown",
      "source": [
        "# Problem 3"
      ],
      "metadata": {
        "id": "BZHi5z3lDYoI"
      }
    },
    {
      "cell_type": "code",
      "source": [
        "# Firstly, we need to allocate the subset of features for machine learning in this question.\n",
        "X_df_q6 = \n"
      ],
      "metadata": {
        "id": "ATuz5LbNFSRR"
      },
      "execution_count": null,
      "outputs": []
    },
    {
      "cell_type": "code",
      "source": [
        "# At the same time, allocate the target as well.\n",
        "y_df_q6 = "
      ],
      "metadata": {
        "id": "YLfZ3j1dNE_N"
      },
      "execution_count": null,
      "outputs": []
    },
    {
      "cell_type": "code",
      "source": [
        "# The function calculating euclidean distance\n",
        "def euclidean_distance(x1, x2):\n",
        "    # Computes the Euclidean distance between two vectors x1 and x2\n",
        "    return np.sqrt(np.sum((x1 - x2)**2))"
      ],
      "metadata": {
        "id": "t1rlDlaAJCUd"
      },
      "execution_count": null,
      "outputs": []
    },
    {
      "cell_type": "code",
      "source": [
        "# The knn function\n",
        "def knn(k, data, data_X, data_y):\n",
        "  \"\"\"\n",
        "  Implements a k-nearest neighbors classifier and regressor.\n",
        "\n",
        "  Parameters:\n",
        "  k (int): The number of nearest neighbors to consider.\n",
        "  data (numpy.ndarray): The test data.\n",
        "  data_X (pandas.DataFrame) : The known feature dataset, which is X_df_q6 here.\n",
        "  data_y (pandas.DataFrame) : The known label and prediction dataset, which is y_df_q6 here.\n",
        "\n",
        "  Returns:\n",
        "  rent_pred (float): The predicted Rent for the test data.\n",
        "  FS_pred\t(string): The predicted Furnishing Status for the test data.\n",
        "  \"\"\"\n",
        "\n",
        "  # Transform the data type into numpy array\n",
        "  array_ds_q6 = np.array(data_X)\n",
        "\n",
        "  # Find out the (minimum) and (maximum - minimum) of each column\n",
        "  array_ds_min = \n",
        "  array_ds_diff = \n",
        "\n",
        "  # Normalize the feature dataset\n",
        "  nor_ds_q6 = \n",
        "\n",
        "  # Normalize the new data record\n",
        "  nor_data = \n",
        "\n",
        "  # Calculate the distance based on our previous function\n",
        "  distances = \n",
        "\n",
        "  # Find the indexes of the k nearest neighbour\n",
        "  k_nearest_idxs = \n",
        "\n",
        "  # Then find out the furnishing status\n",
        "  k_nearest_FSs = \n",
        "  FS_pred = \n",
        "\n",
        "  # Also the rent\n",
        "  k_nearest_rent = \n",
        "  rent_pred = \n",
        "\n",
        "  # Return the desired output\n",
        "  return  rent_pred, FS_pred\n",
        "\n",
        "\n"
      ],
      "metadata": {
        "id": "6X_teP9WFxuD"
      },
      "execution_count": null,
      "outputs": []
    },
    {
      "cell_type": "code",
      "source": [
        "# You may use the following two cells to test your function. \n",
        "\n",
        "x = np.array([2, 500, 1])\n",
        "rent_pred, FS_pred = knn(3, x, X_df_q6, y_df_q6)\n",
        "\n",
        "print(\"The predicted rent is {}.\".format(rent_pred))\n",
        "print(\"The predicted furnishing status is {}.\".format(FS_pred))"
      ],
      "metadata": {
        "id": "ZvZrVR8HM9YY"
      },
      "execution_count": null,
      "outputs": []
    },
    {
      "cell_type": "code",
      "source": [
        "x = np.array([4, 750, 2])\n",
        "rent_pred, FS_pred = knn(5, x, X_df_q6, y_df_q6)\n",
        "\n",
        "print(\"The predicted rent is {}.\".format(rent_pred))\n",
        "print(\"The predicted furnishing status is {}.\".format(FS_pred))"
      ],
      "metadata": {
        "id": "rPAaUARMPqG2"
      },
      "execution_count": null,
      "outputs": []
    }
  ]
}